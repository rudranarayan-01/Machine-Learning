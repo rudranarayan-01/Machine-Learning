{
 "cells": [
  {
   "cell_type": "code",
   "execution_count": null,
   "id": "1d6ef3ad-e4ca-4dd6-937f-bd373996e1ed",
   "metadata": {},
   "outputs": [],
   "source": [
    "## Bias is a measurement of how accurately our model can capture the datasets\n",
    "## Variance :  the amount by which the performance of a predictive model changes when it is trained on different subsets of the training data\n",
    "\n",
    "\n",
    "## Overfit : High Variance\n",
    "## Underfit : High Bias\n",
    "## Balanced Fit : Low Variance and Low Bias\n",
    "\n",
    "\n",
    "## Ways to get Balanced fit Model :\n",
    " # 1. Cross Validation\n",
    " # 2. Regularization\n",
    " # 3. Dimensionally Reduction PCA\n",
    " # 4. Ensamble technique ( Bagging, Boosting)"
   ]
  }
 ],
 "metadata": {
  "kernelspec": {
   "display_name": "Python 3 (ipykernel)",
   "language": "python",
   "name": "python3"
  },
  "language_info": {
   "codemirror_mode": {
    "name": "ipython",
    "version": 3
   },
   "file_extension": ".py",
   "mimetype": "text/x-python",
   "name": "python",
   "nbconvert_exporter": "python",
   "pygments_lexer": "ipython3",
   "version": "3.12.4"
  }
 },
 "nbformat": 4,
 "nbformat_minor": 5
}
