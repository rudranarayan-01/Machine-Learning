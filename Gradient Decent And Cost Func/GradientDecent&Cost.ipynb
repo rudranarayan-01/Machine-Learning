{
 "cells": [
  {
   "cell_type": "code",
   "execution_count": 19,
   "id": "a7fd4c2f-c282-4c94-94d7-ec0e90ac64aa",
   "metadata": {},
   "outputs": [
    {
     "ename": "TypeError",
     "evalue": "'int' object is not callable",
     "output_type": "error",
     "traceback": [
      "\u001b[1;31m---------------------------------------------------------------------------\u001b[0m",
      "\u001b[1;31mTypeError\u001b[0m                                 Traceback (most recent call last)",
      "Cell \u001b[1;32mIn[19], line 24\u001b[0m\n\u001b[0;32m     21\u001b[0m x \u001b[38;5;241m=\u001b[39m np\u001b[38;5;241m.\u001b[39marray([\u001b[38;5;241m1\u001b[39m,\u001b[38;5;241m2\u001b[39m,\u001b[38;5;241m3\u001b[39m,\u001b[38;5;241m4\u001b[39m,\u001b[38;5;241m5\u001b[39m])\n\u001b[0;32m     22\u001b[0m y \u001b[38;5;241m=\u001b[39m np\u001b[38;5;241m.\u001b[39marray([\u001b[38;5;241m5\u001b[39m,\u001b[38;5;241m6\u001b[39m,\u001b[38;5;241m7\u001b[39m,\u001b[38;5;241m8\u001b[39m,\u001b[38;5;241m9\u001b[39m])\n\u001b[1;32m---> 24\u001b[0m gradient_decent(x,y)\n",
      "Cell \u001b[1;32mIn[19], line 12\u001b[0m, in \u001b[0;36mgradient_decent\u001b[1;34m(x, y)\u001b[0m\n\u001b[0;32m     10\u001b[0m \u001b[38;5;28;01mfor\u001b[39;00m i \u001b[38;5;129;01min\u001b[39;00m \u001b[38;5;28mrange\u001b[39m(iterations):\n\u001b[0;32m     11\u001b[0m     y_predicted \u001b[38;5;241m=\u001b[39m m_curr \u001b[38;5;241m*\u001b[39m x \u001b[38;5;241m+\u001b[39m b_curr\n\u001b[1;32m---> 12\u001b[0m     cost \u001b[38;5;241m=\u001b[39m (\u001b[38;5;241m1\u001b[39m\u001b[38;5;241m/\u001b[39mn) \u001b[38;5;241m*\u001b[39m \u001b[38;5;28msum\u001b[39m ([ val\u001b[38;5;241m*\u001b[39m\u001b[38;5;241m*\u001b[39m\u001b[38;5;241m2\u001b[39m \u001b[38;5;28;01mfor\u001b[39;00m val \u001b[38;5;129;01min\u001b[39;00m i (y\u001b[38;5;241m-\u001b[39my_predicted)])\n\u001b[0;32m     13\u001b[0m     md \u001b[38;5;241m=\u001b[39m \u001b[38;5;241m-\u001b[39m(\u001b[38;5;241m2\u001b[39m\u001b[38;5;241m/\u001b[39mn) \u001b[38;5;241m*\u001b[39m \u001b[38;5;28msum\u001b[39m (x \u001b[38;5;241m*\u001b[39m (y\u001b[38;5;241m-\u001b[39my_predicted))\n\u001b[0;32m     14\u001b[0m     bd \u001b[38;5;241m=\u001b[39m \u001b[38;5;241m-\u001b[39m(\u001b[38;5;241m2\u001b[39m\u001b[38;5;241m/\u001b[39mn) \u001b[38;5;241m*\u001b[39m \u001b[38;5;28msum\u001b[39m (y\u001b[38;5;241m-\u001b[39my_predicted)\n",
      "\u001b[1;31mTypeError\u001b[0m: 'int' object is not callable"
     ]
    }
   ],
   "source": [
    "import numpy as np\n",
    "\n",
    "\n",
    "def gradient_decent(x,y):\n",
    "    m_curr = b_curr = 0\n",
    "    iterations = 100\n",
    "    n = len(x)\n",
    "    learning_rate = 0.001\n",
    "    \n",
    "    for i in range(iterations):\n",
    "        y_predicted = m_curr * x + b_curr\n",
    "        cost = (1/n) * sum ([ val**2 for val in i (y-y_predicted)])\n",
    "        md = -(2/n) * sum (x * (y-y_predicted))\n",
    "        bd = -(2/n) * sum (y-y_predicted)\n",
    "        m_curr = m_curr - learning_rate*md\n",
    "        b_curr = b_curr - learning_rate * bd\n",
    "        print(\"m {}, b {} ,cost{}, iteration {}\".format(m_curr,b_curr,cost,i))\n",
    "        \n",
    "        \n",
    "\n",
    "x = np.array([1,2,3,4,5])\n",
    "y = np.array([5,6,7,8,9])\n",
    "\n",
    "gradient_decent(x,y)"
   ]
  },
  {
   "cell_type": "code",
   "execution_count": null,
   "id": "0c589901-4031-4d8b-b80a-ea0dd62312d3",
   "metadata": {},
   "outputs": [],
   "source": []
  }
 ],
 "metadata": {
  "kernelspec": {
   "display_name": "Python 3 (ipykernel)",
   "language": "python",
   "name": "python3"
  },
  "language_info": {
   "codemirror_mode": {
    "name": "ipython",
    "version": 3
   },
   "file_extension": ".py",
   "mimetype": "text/x-python",
   "name": "python",
   "nbconvert_exporter": "python",
   "pygments_lexer": "ipython3",
   "version": "3.12.4"
  }
 },
 "nbformat": 4,
 "nbformat_minor": 5
}
